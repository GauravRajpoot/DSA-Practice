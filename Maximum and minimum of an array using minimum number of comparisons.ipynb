{
 "cells": [
  {
   "cell_type": "markdown",
   "metadata": {},
   "source": [
    "### Maximum and minimum of an array using minimum number of comparisons\n"
   ]
  },
  {
   "cell_type": "code",
   "execution_count": 9,
   "metadata": {},
   "outputs": [
    {
     "name": "stdout",
     "output_type": "stream",
     "text": [
      "(44577, 8)\n"
     ]
    }
   ],
   "source": [
    "def reverseArra(array):\n",
    "    larget=array[0]\n",
    "    min=array[0]\n",
    "    for index,value in enumerate(array):\n",
    "        if larget<array[index]:\n",
    "            larget=value\n",
    "        elif min>array[index]:\n",
    "            min=value\n",
    "    return larget,min\n",
    "\n",
    "lst=[1000, 10, 44577, 8, 330, 3000]\n",
    "print(reverseArra(lst))\n"
   ]
  },
  {
   "cell_type": "code",
   "execution_count": null,
   "metadata": {},
   "outputs": [],
   "source": []
  }
 ],
 "metadata": {
  "kernelspec": {
   "display_name": "Python 3",
   "language": "python",
   "name": "python3"
  },
  "language_info": {
   "codemirror_mode": {
    "name": "ipython",
    "version": 3
   },
   "file_extension": ".py",
   "mimetype": "text/x-python",
   "name": "python",
   "nbconvert_exporter": "python",
   "pygments_lexer": "ipython3",
   "version": "3.8.3"
  }
 },
 "nbformat": 4,
 "nbformat_minor": 4
}
