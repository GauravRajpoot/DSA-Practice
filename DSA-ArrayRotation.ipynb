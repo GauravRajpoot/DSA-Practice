{
 "cells": [
  {
   "cell_type": "markdown",
   "metadata": {},
   "source": [
    "### Write a program to reverse an array or string"
   ]
  },
  {
   "cell_type": "markdown",
   "metadata": {},
   "source": [
    "Input  : arr[] = {1, 2, 3}\n",
    "Output : arr[] = {3, 2, 1}\n",
    "\n",
    "Input :  arr[] = {4, 5, 1, 2}\n",
    "Output : arr[] = {2, 1, 5, 4}\n",
    "\n"
   ]
  },
  {
   "cell_type": "code",
   "execution_count": 30,
   "metadata": {},
   "outputs": [
    {
     "name": "stdout",
     "output_type": "stream",
     "text": [
      "[5, 4, 3, 2, 1]\n"
     ]
    }
   ],
   "source": [
    "def reverseArray(array):\n",
    "    start, end = 0, len(array)-1\n",
    "    while start < end :\n",
    "        array[start],array[end]=array[end],array[start]\n",
    "        start=start+1\n",
    "        end=end-1\n",
    "    return array\n",
    "\n",
    "def reverseArrayElements(array,start,end):\n",
    "    if start >= end :\n",
    "        return array\n",
    "    else:\n",
    "        array[start],array[end]=array[end],array[start]\n",
    "    return reverseArrayElements(array,start+1,end-1)\n",
    "\n",
    "arrayList=[1,2,3,4,5]\n",
    "#print(reverseArrayElements(arrayList,0,len(arrayList)-1))\n",
    "\n",
    "print(reverseArray(arrayList))"
   ]
  },
  {
   "cell_type": "code",
   "execution_count": null,
   "metadata": {},
   "outputs": [],
   "source": []
  }
 ],
 "metadata": {
  "kernelspec": {
   "display_name": "Python 3",
   "language": "python",
   "name": "python3"
  },
  "language_info": {
   "codemirror_mode": {
    "name": "ipython",
    "version": 3
   },
   "file_extension": ".py",
   "mimetype": "text/x-python",
   "name": "python",
   "nbconvert_exporter": "python",
   "pygments_lexer": "ipython3",
   "version": "3.8.3"
  }
 },
 "nbformat": 4,
 "nbformat_minor": 4
}
